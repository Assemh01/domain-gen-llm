{
 "cells": [
  {
   "cell_type": "markdown",
   "id": "f0c5d890-919a-4f44-8b67-3c96d6599d02",
   "metadata": {},
   "source": [
    "## v0 Dataset"
   ]
  },
  {
   "cell_type": "code",
   "execution_count": 1,
   "id": "47f446d8-8076-4d8f-9703-06f48d277c1f",
   "metadata": {},
   "outputs": [
    {
     "data": {
      "text/plain": [
       "('v1', 1000, [0.7, 0.15, 0.15])"
      ]
     },
     "execution_count": 1,
     "metadata": {},
     "output_type": "execute_result"
    }
   ],
   "source": [
    "from pathlib import Path\n",
    "import yaml, random, numpy as np\n",
    "\n",
    "ROOT = Path(\"..\").resolve()\n",
    "CFG = yaml.safe_load(open(ROOT / \"data\" / \"synth\" / \"v1\" / \"config.yaml\", \"r\"))\n",
    "random.seed(CFG[\"seed\"]); np.random.seed(CFG[\"seed\"])\n",
    "\n",
    "CFG[\"version\"], CFG[\"n_total\"], CFG[\"train_val_test_split\"]"
   ]
  },
  {
   "cell_type": "code",
   "execution_count": 2,
   "id": "e51a3d3d-7b6a-4bd0-9b9d-005570233440",
   "metadata": {},
   "outputs": [],
   "source": [
    "import re, json, uuid, random\n",
    "from typing import List, Dict, Any, Tuple\n",
    "\n",
    "INDUSTRIES = [\n",
    "    (\"coffee_shop\", [\"coffee\", \"cafe\", \"espresso\", \"brew\", \"roast\", \"bean\"]),\n",
    "    (\"family_therapy\", [\"family\", \"therapy\", \"counseling\", \"care\", \"wellness\"]),\n",
    "    (\"childcare\", [\"kids\", \"care\", \"learning\", \"play\", \"little\", \"nest\"]),\n",
    "    (\"nonprofit\", [\"foundation\", \"cause\", \"impact\", \"hope\", \"aid\"]),\n",
    "    (\"legal\", [\"law\", \"legal\", \"counsel\", \"attorney\"]),\n",
    "    (\"fitness\", [\"fit\", \"gym\", \"move\", \"pulse\", \"core\", \"strong\"]),\n",
    "    (\"wedding_planner\", [\"wedding\", \"bridal\", \"vows\", \"bloom\", \"event\"]),\n",
    "    (\"pet_care\", [\"pet\", \"paws\", \"tail\", \"fur\", \"vet\", \"groom\"]),\n",
    "    (\"fintech\", [\"pay\", \"fund\", \"ledger\", \"mint\", \"bank\", \"wallet\"]),\n",
    "    (\"hvac\", [\"heat\", \"cool\", \"air\", \"climate\", \"comfort\"]),\n",
    "    (\"education\", [\"learn\", \"academy\", \"tutor\", \"study\", \"class\"]),\n",
    "    (\"grocery\", [\"market\", \"farm\", \"green\", \"fresh\", \"harvest\"]),\n",
    "    (\"gardening\", [\"garden\", \"bloom\", \"grow\", \"root\", \"sprout\"]),\n",
    "    (\"co_parenting\", [\"family\", \"co\", \"parent\", \"calendar\", \"share\", \"connect\"]),\n",
    "]\n",
    "\n",
    "ADJECTIVES = [\"organic\", \"premium\", \"affordable\", \"eco\", \"local\", \"downtown\", \"mobile\", \"friendly\", \"trusted\", \"modern\", \"deluxe\", \"express\", \"family\"]\n",
    "TONES = [\"playful\", \"friendly\", \"professional\", \"premium\", \"family-friendly\", \"eco-conscious\"]\n",
    "AUDIENCES = [\"parents\", \"young professionals\", \"students\", \"seniors\", \"families\", \"small businesses\"]\n",
    "CITIES = [\"Detroit\", \"Seattle\", \"Austin\", \"Miami\", \"Denver\", \"Phoenix\", \"San Diego\", \"Boston\", \"Chicago\"]\n",
    "\n",
    "BAD_CATEGORIES = {\n",
    "    \"adult_explicit\": [\"adult\", \"porn\", \"xxx\", \"explicit\", \"escort\"],\n",
    "    \"hate_violence\": [\"racial slur\", \"neo-nazi\", \"genocide\", \"hate\"],\n",
    "    \"illegal\": [\"counterfeit\", \"stolen ids\", \"fake passports\", \"drug trafficking\"],\n",
    "    \"weapons_minor\": [\"guns for kids\", \"weapons for children\"],\n",
    "    \"doxxing\": [\"post private addresses\", \"leak ssn\"],\n",
    "    \"child_exploitation\": [\"underage adult content\"],\n",
    "}\n"
   ]
  },
  {
   "cell_type": "code",
   "execution_count": 3,
   "id": "0eb95c41-53ab-49f2-a049-438dd27101a6",
   "metadata": {},
   "outputs": [],
   "source": [
    "def slugify_token(tok: str) -> str:\n",
    "    return re.sub(r\"[^a-z0-9]\", \"\", tok.lower())\n",
    "\n",
    "def join_tokens(tokens: List[str], allow_hyphens: bool=False, allow_numbers: bool=False) -> str:\n",
    "    base = \"-\".join(tokens) if allow_hyphens else \"\".join(tokens)\n",
    "    if not allow_numbers:\n",
    "        base = re.sub(r\"\\d\", \"\", base)\n",
    "    base = re.sub(r\"-{2,}\", \"-\", base)\n",
    "    return base[:63]\n",
    "\n",
    "def looks_pronounceable(s: str) -> bool:\n",
    "    return bool(re.search(r\"[aeiouy]\", s)) and not re.search(r\"[^a-z0-9-]\", s)\n",
    "\n",
    "def conf_score(name: str, tld: str, constraints: Dict[str, Any]) -> float:\n",
    "    score = 0.5\n",
    "    score += 0.2 * (min(len(name), 30)/30.0)\n",
    "    if tld in [\".com\", \".org\", \".co\"]: score += 0.15\n",
    "    if \"-\" in name and not constraints.get(\"allow_hyphens\", False): score -= 0.10\n",
    "    if re.search(r\"\\d\", name) and not constraints.get(\"allow_numbers\", False): score -= 0.08\n",
    "    if not looks_pronounceable(name): score -= 0.05\n",
    "    return float(max(0.05, min(0.99, round(score, 2))))\n"
   ]
  },
  {
   "cell_type": "code",
   "execution_count": 4,
   "id": "04677d3f-2d56-498a-9c9a-b641751f16a5",
   "metadata": {},
   "outputs": [],
   "source": [
    "def pick_tlds(primary, secondary):\n",
    "    out = primary + random.sample(secondary, k=min(len(secondary), random.randint(0,2)))\n",
    "    return list(dict.fromkeys(out))\n",
    "\n",
    "def make_business_description(industry_key: str, complexity: str) -> str:\n",
    "    adj = random.choice(ADJECTIVES)\n",
    "    tone = random.choice(TONES)\n",
    "    audience = random.choice(AUDIENCES)\n",
    "    city = random.choice(CITIES)\n",
    "    base = f\"{adj} {industry_key.replace('_',' ')} for {audience} in {city}. Tone: {tone}.\"\n",
    "    if complexity == \"L1\":\n",
    "        return base\n",
    "    elif complexity == \"L2\":\n",
    "        extras = []\n",
    "        if random.random() < 0.5: extras.append(\"Avoid hyphens\")\n",
    "        if random.random() < 0.5: extras.append(\"Prefer short names\")\n",
    "        if random.random() < 0.4: extras.append(\"Include subtle wordplay\")\n",
    "        return base + \" Constraints: \" + \"; \".join(extras) + \".\"\n",
    "    else:\n",
    "        return base + \" Extra details: seasonal promos, bilingual marketing, strong mobile presence, calendar integrations.\"\n",
    "\n",
    "def sample_constraints(cfg):\n",
    "    return {\n",
    "        \"allow_hyphens\": random.random() < cfg[\"constraints\"][\"allow_hyphens_rate\"],\n",
    "        \"allow_numbers\": random.random() < cfg[\"constraints\"][\"allow_numbers_rate\"],\n",
    "        \"prefer_puns\": random.random() < cfg[\"constraints\"][\"pun_preference_rate\"],\n",
    "    }\n",
    "\n",
    "def generate_suggestions(wordbag, tlds, constraints, k):\n",
    "    out, bases = [], set()\n",
    "    for _ in range(k*3):\n",
    "        if random.random() < 0.4 and len(wordbag) >= 2:\n",
    "            a, b = random.sample(wordbag, 2)\n",
    "            if random.random() < 0.35:\n",
    "                mid = a[:max(2,len(a)//2)] + b[max(1,len(b)//2):]\n",
    "                tokens = [slugify_token(mid)]\n",
    "            else:\n",
    "                tokens = [slugify_token(a), slugify_token(b)]\n",
    "        else:\n",
    "            tokens = [slugify_token(random.choice(wordbag))]\n",
    "        name = join_tokens(tokens, constraints[\"allow_hyphens\"], constraints[\"allow_numbers\"])\n",
    "        if 3 <= len(name) <= 30:\n",
    "            bases.add(name)\n",
    "        if len(bases) >= k*2:\n",
    "            break\n",
    "    bases = list(bases)[:max(k,5)]\n",
    "    random.shuffle(bases)\n",
    "    for base in bases:\n",
    "        tld = random.choice(tlds)\n",
    "        out.append({\"domain\": f\"{base}{tld}\", \"confidence\": conf_score(base, tld, constraints)})\n",
    "        if len(out) >= k:\n",
    "            break\n",
    "    return out\n",
    "\n",
    "def wrap_input_prompt(desc, tlds, constraints):\n",
    "    return \"\\n\".join([\n",
    "        \"You are a domain name generator.\",\n",
    "        f'Business description: \"{desc}\"',\n",
    "        f\"Preferred TLDs (order matters): {', '.join(tlds)}\",\n",
    "        f\"Constraints: allow_hyphens={constraints['allow_hyphens']}, allow_numbers={constraints['allow_numbers']}, prefer_puns={constraints['prefer_puns']}\",\n",
    "        'Return ONLY JSON in this schema:\\n{\"status\": \"success|blocked\", \"suggestions\": [{\"domain\":\"...\",\"confidence\": 0.0}], \"message\":\"optional\"}'\n",
    "    ])\n",
    "\n",
    "def make_blocked_example():\n",
    "    cat, phrases = random.choice(list(BAD_CATEGORIES.items()))\n",
    "    phrase = random.choice(phrases)\n",
    "    desc = f\"Build a site for: {phrase}. Generate creative, catchy domain names.\"\n",
    "    constraints = {\"allow_hyphens\": False, \"allow_numbers\": False, \"prefer_puns\": False}\n",
    "    meta = {\"industry\": \"blocked\", \"complexity\": \"N/A\", \"language\": \"en\", \"safety\": cat}\n",
    "    expected = {\"status\": \"blocked\", \"message\": \"Request contains inappropriate content\", \"suggestions\": []}\n",
    "    return desc, constraints, meta, expected\n",
    "\n",
    "def make_safe_example(cfg):\n",
    "    industry_key, bag = random.choice(INDUSTRIES)\n",
    "    complexity = np.random.choice([\"L1\",\"L2\",\"L3\"], p=[cfg[\"complexity_mix\"][\"L1\"], cfg[\"complexity_mix\"][\"L2\"], cfg[\"complexity_mix\"][\"L3\"]])\n",
    "    desc = make_business_description(industry_key, complexity)\n",
    "    constraints = sample_constraints(cfg)\n",
    "    tlds = pick_tlds(cfg[\"tlds_primary\"], cfg[\"tlds_secondary\"])\n",
    "    k = random.randint(cfg[\"min_suggestions\"], cfg[\"max_suggestions\"])\n",
    "    suggestions = generate_suggestions(bag, tlds, constraints, k)\n",
    "    expected = {\"status\": \"success\", \"suggestions\": suggestions}\n",
    "    meta = {\"industry\": industry_key, \"complexity\": complexity, \"language\": \"en\", \"safety\": \"safe\", \"tlds\": tlds, **constraints}\n",
    "    return desc, constraints, meta, expected\n"
   ]
  },
  {
   "cell_type": "code",
   "execution_count": 5,
   "id": "50c12fa3-f629-4651-bc45-6b2f9fbedeb1",
   "metadata": {},
   "outputs": [
    {
     "name": "stderr",
     "output_type": "stream",
     "text": [
      "blocked: 100%|█████████████████████████████████████████████████████████████████████████████████████████████████████████████| 6/6 [00:00<00:00, 4450.19it/s]\n",
      "safe: 100%|██████████████████████████████████████████████████████████████████████████████████████████████████████████████| 44/44 [00:00<00:00, 2640.19it/s]\n"
     ]
    },
    {
     "data": {
      "text/plain": [
       "(50,\n",
       " {'industry': 'gardening',\n",
       "  'complexity': np.str_('L1'),\n",
       "  'language': 'en',\n",
       "  'safety': 'safe',\n",
       "  'tlds': ['.com', '.co', '.org', '.family', '.ai'],\n",
       "  'allow_hyphens': False,\n",
       "  'allow_numbers': False,\n",
       "  'prefer_puns': False})"
      ]
     },
     "execution_count": 5,
     "metadata": {},
     "output_type": "execute_result"
    }
   ],
   "source": [
    "from tqdm import trange\n",
    "\n",
    "V0_N = 50\n",
    "V0_FRAC_BLOCKED = CFG[\"frac_blocked\"]\n",
    "n_blocked = int(round(V0_N * V0_FRAC_BLOCKED))\n",
    "n_safe = V0_N - n_blocked\n",
    "\n",
    "rows = []\n",
    "for _ in trange(n_blocked, desc=\"blocked\"):\n",
    "    desc, constraints, meta, expected = make_blocked_example()\n",
    "    prompt = wrap_input_prompt(desc, [\".com\"], constraints)\n",
    "    rows.append({\"id\": str(uuid.uuid4()), \"input\": prompt, \"output\": expected, \"meta\": meta})\n",
    "\n",
    "for _ in trange(n_safe, desc=\"safe\"):\n",
    "    desc, constraints, meta, expected = make_safe_example(CFG)\n",
    "    prompt = wrap_input_prompt(desc, meta[\"tlds\"], constraints)\n",
    "    rows.append({\"id\": str(uuid.uuid4()), \"input\": prompt, \"output\": expected, \"meta\": meta})\n",
    "\n",
    "random.shuffle(rows)\n",
    "len(rows), rows[0][\"meta\"]\n"
   ]
  },
  {
   "cell_type": "code",
   "execution_count": 6,
   "id": "727cb892-109f-40f2-85f7-ecd80edbafef",
   "metadata": {},
   "outputs": [
    {
     "data": {
      "text/plain": [
       "{'train': 35, 'val': 7, 'test': 8, 'total': 50}"
      ]
     },
     "execution_count": 6,
     "metadata": {},
     "output_type": "execute_result"
    }
   ],
   "source": [
    "OUT = ROOT / \"data\" / \"synth\" / \"v0\"\n",
    "OUT.mkdir(parents=True, exist_ok=True)\n",
    "\n",
    "def save_jsonl(path, items):\n",
    "    with open(path, \"w\", encoding=\"utf-8\") as f:\n",
    "        for r in items:\n",
    "            f.write(json.dumps(r, ensure_ascii=False) + \"\\n\")\n",
    "\n",
    "p_train, p_val, p_test = CFG[\"train_val_test_split\"]\n",
    "n = len(rows)\n",
    "n_train = int(n * p_train)\n",
    "n_val   = int(n * p_val)\n",
    "n_test  = n - n_train - n_val\n",
    "\n",
    "train = rows[:n_train]\n",
    "val   = rows[n_train:n_train+n_val]\n",
    "test  = rows[n_train+n_val:]\n",
    "\n",
    "save_jsonl(OUT / \"train.jsonl\", train)\n",
    "save_jsonl(OUT / \"val.jsonl\", val)\n",
    "save_jsonl(OUT / \"test.jsonl\", test)\n",
    "\n",
    "{\"train\": len(train), \"val\": len(val), \"test\": len(test), \"total\": n}\n"
   ]
  },
  {
   "cell_type": "code",
   "execution_count": 7,
   "id": "4e582ec0-7b5d-4c9f-a6de-bc1670322d29",
   "metadata": {},
   "outputs": [
    {
     "name": "stdout",
     "output_type": "stream",
     "text": [
      "by_industry:\n",
      " industry\n",
      "blocked           6\n",
      "childcare         5\n",
      "pet_care          4\n",
      "family_therapy    4\n",
      "fitness           3\n",
      "grocery           3\n",
      "education         2\n",
      "gardening         2\n",
      "fintech           2\n",
      "co_parenting      2\n",
      "Name: count, dtype: int64\n",
      "\n",
      "by_complexity:\n",
      " complexity\n",
      "L1     18\n",
      "L2      9\n",
      "N/A     6\n",
      "L3      2\n",
      "Name: count, dtype: int64\n",
      "\n",
      "safety_counts:\n",
      " safety\n",
      "safe                  29\n",
      "child_exploitation     2\n",
      "hate_violence          2\n",
      "adult_explicit         1\n",
      "doxxing                1\n",
      "Name: count, dtype: int64\n",
      "\n",
      "Sample input:\n",
      " You are a domain name generator.\n",
      "Business description: \"friendly gardening for seniors in Austin. Tone: family-friendly.\"\n",
      "Preferred TLDs (order matters): .com, .co, .org, .family, .ai\n",
      "Constraints: allow_hyphens=False, allow_numbers=False, prefer_puns=False\n",
      "Return ONLY JSON in this schema:\n",
      "{\"status\": \"success|blocked\", \"suggestions\": [{\"domain\":\"...\",\"confidence\": 0.0}], \"message\":\"optional\"}\n",
      "\n",
      "Sample output:\n",
      " {'status': 'success', 'suggestions': [{'domain': 'sprout.org', 'confidence': 0.69}, {'domain': 'bloom.ai', 'confidence': 0.53}, {'domain': 'root.org', 'confidence': 0.68}, {'domain': 'grow.org', 'confidence': 0.68}, {'domain': 'bloomgarden.com', 'confidence': 0.72}, {'domain': 'growsprout.ai', 'confidence': 0.57}, {'domain': 'growroot.ai', 'confidence': 0.55}, {'domain': 'garow.family', 'confidence': 0.53}]}\n"
     ]
    }
   ],
   "source": [
    "import pandas as pd\n",
    "def read_jsonl(p): return [json.loads(l) for l in open(p, \"r\", encoding=\"utf-8\")]\n",
    "df = pd.DataFrame([r[\"meta\"] for r in read_jsonl(OUT / \"train.jsonl\")])\n",
    "print(\"by_industry:\\n\", df[\"industry\"].value_counts().head(10))\n",
    "print(\"\\nby_complexity:\\n\", df[\"complexity\"].value_counts())\n",
    "print(\"\\nsafety_counts:\\n\", df[\"safety\"].value_counts())\n",
    "print(\"\\nSample input:\\n\", read_jsonl(OUT / \"train.jsonl\")[0][\"input\"])\n",
    "print(\"\\nSample output:\\n\", read_jsonl(OUT / \"train.jsonl\")[0][\"output\"])\n"
   ]
  },
  {
   "cell_type": "code",
   "execution_count": 8,
   "id": "effc05d6-58fe-4b1f-8596-8417ebb3f1f6",
   "metadata": {},
   "outputs": [
    {
     "data": {
      "text/plain": [
       "'written'"
      ]
     },
     "execution_count": 8,
     "metadata": {},
     "output_type": "execute_result"
    }
   ],
   "source": [
    "card = f\"\"\"# DATASET CARD — Synthetic Domain Names (v0 smoke)\n",
    "\n",
    "Created via `notebooks/01_dataset_creation.ipynb` to validate the pipeline before v1.\n",
    "- Total: {V0_N} (blocked ~{int(V0_N*V0_FRAC_BLOCKED)}; safe ~{V0_N-int(V0_N*V0_FRAC_BLOCKED)})\n",
    "- Splits: {CFG['train_val_test_split']}\n",
    "- Industries: coffee, family therapy, childcare, nonprofit, legal, fitness, wedding, pet care, fintech, hvac, education, grocery, gardening, co-parenting\n",
    "- Safety: refusal cases included; expected blocked schema in `docs/SAFETY_POLICY.md`\n",
    "- IO format: JSON {{\"status\",\"message?\",\"suggestions\":[{{\"domain\",\"confidence\"}}]}}\n",
    "\n",
    "Notes/limitations:\n",
    "- Heuristic confidence (not calibrated).\n",
    "- Simple wordbanks; creativity limited in v0.\n",
    "- v1 will scale to 1000 examples with same config/seed.\n",
    "\"\"\"\n",
    "( ROOT / \"reports\" / \"DATASET_CARD_v0.md\").write_text(card, encoding=\"utf-8\")\n",
    "\"written\"\n"
   ]
  },
  {
   "cell_type": "markdown",
   "id": "eedbb91f-9b96-4bbc-a1e0-d130d785bc0e",
   "metadata": {},
   "source": [
    "## v1 Dataset"
   ]
  },
  {
   "cell_type": "code",
   "execution_count": 11,
   "id": "6fb61942-1288-44a4-ba07-d6ffb4cc97d4",
   "metadata": {},
   "outputs": [
    {
     "name": "stderr",
     "output_type": "stream",
     "text": [
      "blocked_v1: 100%|█████████████████████████████████████████████████████████████████████████████████████████████████████| 120/120 [00:00<00:00, 29201.47it/s]\n",
      "safe_v1: 100%|█████████████████████████████████████████████████████████████████████████████████████████████████████████| 880/880 [00:00<00:00, 2794.73it/s]\n"
     ]
    },
    {
     "data": {
      "text/plain": [
       "(1000,\n",
       " {'industry': 'education',\n",
       "  'complexity': np.str_('L1'),\n",
       "  'language': 'en',\n",
       "  'safety': 'safe',\n",
       "  'tlds': ['.com', '.co', '.org'],\n",
       "  'allow_hyphens': False,\n",
       "  'allow_numbers': False,\n",
       "  'prefer_puns': False})"
      ]
     },
     "execution_count": 11,
     "metadata": {},
     "output_type": "execute_result"
    }
   ],
   "source": [
    "from tqdm import trange\n",
    "\n",
    "V1_N = CFG[\"n_total\"]\n",
    "V1_FRAC_BLOCKED = CFG[\"frac_blocked\"]\n",
    "n_blocked_v1 = int(round(V1_N * V1_FRAC_BLOCKED))\n",
    "n_safe_v1 = V1_N - n_blocked_v1\n",
    "\n",
    "rows_v1 = []\n",
    "\n",
    "# blocked examples\n",
    "for _ in trange(n_blocked_v1, desc=\"blocked_v1\"):\n",
    "    desc, constraints, meta, expected = make_blocked_example()\n",
    "    prompt = wrap_input_prompt(desc, [\".com\"], constraints)\n",
    "    rows_v1.append({\n",
    "        \"id\": str(uuid.uuid4()),\n",
    "        \"input\": prompt,\n",
    "        \"output\": expected,\n",
    "        \"meta\": meta\n",
    "    })\n",
    "\n",
    "# safe examples\n",
    "for _ in trange(n_safe_v1, desc=\"safe_v1\"):\n",
    "    desc, constraints, meta, expected = make_safe_example(CFG)\n",
    "    prompt = wrap_input_prompt(desc, meta[\"tlds\"], constraints)\n",
    "    rows_v1.append({\n",
    "        \"id\": str(uuid.uuid4()),\n",
    "        \"input\": prompt,\n",
    "        \"output\": expected,\n",
    "        \"meta\": meta\n",
    "    })\n",
    "\n",
    "random.shuffle(rows_v1)\n",
    "len(rows_v1), rows_v1[0][\"meta\"]\n"
   ]
  },
  {
   "cell_type": "code",
   "execution_count": 12,
   "id": "b3c99da2-c07c-45f8-ac23-5865cbbd9f2a",
   "metadata": {},
   "outputs": [
    {
     "data": {
      "text/plain": [
       "{'train': 700, 'val': 150, 'test': 150, 'total': 1000}"
      ]
     },
     "execution_count": 12,
     "metadata": {},
     "output_type": "execute_result"
    }
   ],
   "source": [
    "OUT_V1 = ROOT / \"data\" / \"synth\" / \"v1\"\n",
    "OUT_V1.mkdir(parents=True, exist_ok=True)\n",
    "\n",
    "def save_jsonl(path, items):\n",
    "    with open(path, \"w\", encoding=\"utf-8\") as f:\n",
    "        for r in items:\n",
    "            f.write(json.dumps(r, ensure_ascii=False) + \"\\n\")\n",
    "\n",
    "p_train, p_val, p_test = CFG[\"train_val_test_split\"]\n",
    "n = len(rows_v1)\n",
    "n_train = int(n * p_train)\n",
    "n_val   = int(n * p_val)\n",
    "n_test  = n - n_train - n_val\n",
    "\n",
    "train_v1 = rows_v1[:n_train]\n",
    "val_v1   = rows_v1[n_train:n_train+n_val]\n",
    "test_v1  = rows_v1[n_train+n_val:]\n",
    "\n",
    "save_jsonl(OUT_V1 / \"train.jsonl\", train_v1)\n",
    "save_jsonl(OUT_V1 / \"val.jsonl\", val_v1)\n",
    "save_jsonl(OUT_V1 / \"test.jsonl\", test_v1)\n",
    "\n",
    "{\"train\": len(train_v1), \"val\": len(val_v1), \"test\": len(test_v1), \"total\": n}\n"
   ]
  },
  {
   "cell_type": "code",
   "execution_count": 13,
   "id": "b278c74e-abc2-432a-b704-35416b36c28d",
   "metadata": {},
   "outputs": [
    {
     "name": "stdout",
     "output_type": "stream",
     "text": [
      "by_industry:\n",
      " industry\n",
      "blocked           84\n",
      "grocery           49\n",
      "gardening         48\n",
      "coffee_shop       48\n",
      "childcare         48\n",
      "education         48\n",
      "fitness           46\n",
      "pet_care          46\n",
      "family_therapy    46\n",
      "nonprofit         44\n",
      "Name: count, dtype: int64\n",
      "\n",
      "by_complexity:\n",
      " complexity\n",
      "L1     310\n",
      "L2     210\n",
      "L3      96\n",
      "N/A     84\n",
      "Name: count, dtype: int64\n",
      "\n",
      "safety_counts:\n",
      " safety\n",
      "safe                  616\n",
      "child_exploitation     20\n",
      "adult_explicit         19\n",
      "doxxing                16\n",
      "weapons_minor          15\n",
      "hate_violence           8\n",
      "illegal                 6\n",
      "Name: count, dtype: int64\n",
      "\n",
      "Sample input:\n",
      " You are a domain name generator.\n",
      "Business description: \"premium education for small businesses in San Diego. Tone: friendly.\"\n",
      "Preferred TLDs (order matters): .com, .co, .org\n",
      "Constraints: allow_hyphens=False, allow_numbers=False, prefer_puns=False\n",
      "Return ONLY JSON in this schema:\n",
      "{\"status\": \"success|blocked\", \"suggestions\": [{\"domain\":\"...\",\"confidence\": 0.0}], \"message\":\"optional\"}\n",
      "\n",
      "Sample output:\n",
      " {'status': 'success', 'suggestions': [{'domain': 'academyclass.com', 'confidence': 0.73}, {'domain': 'classstudy.org', 'confidence': 0.72}, {'domain': 'academy.co', 'confidence': 0.7}, {'domain': 'ledemy.com', 'confidence': 0.69}, {'domain': 'learnacademy.org', 'confidence': 0.73}, {'domain': 'class.co', 'confidence': 0.68}, {'domain': 'tuarn.co', 'confidence': 0.68}, {'domain': 'tutorstudy.com', 'confidence': 0.72}]}\n"
     ]
    }
   ],
   "source": [
    "import pandas as pd, json\n",
    "\n",
    "def read_jsonl(p): \n",
    "    return [json.loads(l) for l in open(p, \"r\", encoding=\"utf-8\")]\n",
    "\n",
    "df_v1 = pd.DataFrame([r[\"meta\"] for r in read_jsonl(OUT_V1 / \"train.jsonl\")])\n",
    "\n",
    "print(\"by_industry:\\n\", df_v1[\"industry\"].value_counts().head(10))\n",
    "print(\"\\nby_complexity:\\n\", df_v1[\"complexity\"].value_counts())\n",
    "print(\"\\nsafety_counts:\\n\", df_v1[\"safety\"].value_counts())\n",
    "\n",
    "sample_row = read_jsonl(OUT_V1 / \"train.jsonl\")[0]\n",
    "print(\"\\nSample input:\\n\", sample_row[\"input\"])\n",
    "print(\"\\nSample output:\\n\", sample_row[\"output\"])\n"
   ]
  },
  {
   "cell_type": "code",
   "execution_count": 15,
   "id": "83edd238-c613-44ac-945e-d23a6b6d71ad",
   "metadata": {},
   "outputs": [
    {
     "data": {
      "text/plain": [
       "'written'"
      ]
     },
     "execution_count": 15,
     "metadata": {},
     "output_type": "execute_result"
    }
   ],
   "source": [
    "card_v1 = f\"\"\"# DATASET CARD — Synthetic Domain Names (v1)\n",
    "\n",
    "Created reproducibly in `notebooks/01_dataset_creation.ipynb` using `data/synth/v1/config.yaml`.\n",
    "- Total: {V1_N} (blocked ~{int(V1_N*V1_FRAC_BLOCKED)}; safe ~{V1_N-int(V1_N*V1_FRAC_BLOCKED)})\n",
    "- Splits: {CFG['train_val_test_split']}\n",
    "- Industries: coffee, family therapy, childcare, nonprofit, legal, fitness, wedding, pet care, fintech, hvac, education, grocery, gardening, co-parenting\n",
    "- Safety: refusal cases per `docs/SAFETY_POLICY.md`\n",
    "- IO: JSON-only {{ \"status\", \"message?\", \"suggestions\":[{{\"domain\",\"confidence\"}}] }}\n",
    "\n",
    "Notes/limitations:\n",
    "- Heuristic confidence (not calibrated).\n",
    "- Wordbanks are simple; creativity bounded.\n",
    "- This v1 is the baseline fine-tune set; later iterations may augment/adjust.\n",
    "\"\"\"\n",
    "( ROOT / \"reports\" / \"DATASET_CARD.md\").write_text(card_v1, encoding=\"utf-8\")\n",
    "\"written\"\n"
   ]
  },
  {
   "cell_type": "code",
   "execution_count": null,
   "id": "0c5c9542-2c2d-485c-bb83-a72df4019ebb",
   "metadata": {},
   "outputs": [],
   "source": []
  }
 ],
 "metadata": {
  "kernelspec": {
   "display_name": "Python (.venv) domain-gen-llm",
   "language": "python",
   "name": "domain-gen-llm"
  },
  "language_info": {
   "codemirror_mode": {
    "name": "ipython",
    "version": 3
   },
   "file_extension": ".py",
   "mimetype": "text/x-python",
   "name": "python",
   "nbconvert_exporter": "python",
   "pygments_lexer": "ipython3",
   "version": "3.11.5"
  }
 },
 "nbformat": 4,
 "nbformat_minor": 5
}
